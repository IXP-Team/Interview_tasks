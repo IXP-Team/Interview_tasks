{
 "cells": [
  {
   "cell_type": "markdown",
   "metadata": {
    "toc": true
   },
   "source": [
    "<h1>Table of Contents<span class=\"tocSkip\"></span></h1>\n",
    "<div class=\"toc\"><ul class=\"toc-item\"><li><span><a href=\"#Image-processing\" data-toc-modified-id=\"Image-processing-1\"><span class=\"toc-item-num\">1&nbsp;&nbsp;</span>Image processing</a></span><ul class=\"toc-item\"><li><span><a href=\"#Task-1:\" data-toc-modified-id=\"Task-1:-1.1\"><span class=\"toc-item-num\">1.1&nbsp;&nbsp;</span>Task 1:</a></span><ul class=\"toc-item\"><li><span><a href=\"#Reading-data\" data-toc-modified-id=\"Reading-data-1.1.1\"><span class=\"toc-item-num\">1.1.1&nbsp;&nbsp;</span>Reading data</a></span></li><li><span><a href=\"#Visualizing-the-location-of-cursor\" data-toc-modified-id=\"Visualizing-the-location-of-cursor-1.1.2\"><span class=\"toc-item-num\">1.1.2&nbsp;&nbsp;</span>Visualizing the location of cursor</a></span></li><li><span><a href=\"#Exporting-a-video-file\" data-toc-modified-id=\"Exporting-a-video-file-1.1.3\"><span class=\"toc-item-num\">1.1.3&nbsp;&nbsp;</span>Exporting a video file</a></span></li><li><span><a href=\"#Average-location-of-cursor\" data-toc-modified-id=\"Average-location-of-cursor-1.1.4\"><span class=\"toc-item-num\">1.1.4&nbsp;&nbsp;</span>Average location of cursor</a></span></li><li><span><a href=\"#Visualizing-the-heatmap\" data-toc-modified-id=\"Visualizing-the-heatmap-1.1.5\"><span class=\"toc-item-num\">1.1.5&nbsp;&nbsp;</span>Visualizing the heatmap</a></span></li></ul></li><li><span><a href=\"#Task-2\" data-toc-modified-id=\"Task-2-1.2\"><span class=\"toc-item-num\">1.2&nbsp;&nbsp;</span>Task 2</a></span></li></ul></li></ul></div>"
   ]
  },
  {
   "cell_type": "markdown",
   "metadata": {},
   "source": [
    "# Image processing "
   ]
  },
  {
   "cell_type": "markdown",
   "metadata": {},
   "source": [
    "## Task 1: \n",
    "### Reading data\n",
    "you are given a text file `mousePos.txt` which contain the `(x,y)` position of a mouse cursor. Extract the data of the cursor positions in an automated manner."
   ]
  },
  {
   "cell_type": "code",
   "execution_count": 1,
   "metadata": {},
   "outputs": [],
   "source": [
    "#TODO: import the required libraries"
   ]
  },
  {
   "cell_type": "code",
   "execution_count": null,
   "metadata": {},
   "outputs": [],
   "source": []
  },
  {
   "cell_type": "markdown",
   "metadata": {},
   "source": [
    "### Visualizing the location of cursor \n",
    "❓ Visualize the current and the last 20 positions of the cursor with the image `Desktop.png` as a background image."
   ]
  },
  {
   "cell_type": "markdown",
   "metadata": {},
   "source": [
    "![Desktop.png](./Desktop.png)"
   ]
  },
  {
   "cell_type": "code",
   "execution_count": null,
   "metadata": {},
   "outputs": [],
   "source": []
  },
  {
   "cell_type": "markdown",
   "metadata": {},
   "source": [
    "### Exporting a video file\n",
    "❓ Export the results of the previous task into a vidoe file"
   ]
  },
  {
   "cell_type": "code",
   "execution_count": null,
   "metadata": {},
   "outputs": [],
   "source": []
  },
  {
   "cell_type": "markdown",
   "metadata": {},
   "source": [
    "### Average location of cursor\n",
    "❓ Calcualte the average positon of the cursor, and save the content into csv file with proper header. \n",
    "\n",
    "***repeate the process 10 times and visualize the average cursor position***"
   ]
  },
  {
   "cell_type": "code",
   "execution_count": null,
   "metadata": {},
   "outputs": [],
   "source": []
  },
  {
   "cell_type": "markdown",
   "metadata": {},
   "source": [
    "### Visualizing the heatmap\n",
    "❓ Calculate and visualize a Heatmap, stating the amount of time spent in each location. \n",
    "\n",
    "💡  \n",
    "As an example you can look at 'Heatmap_example.jpg'.\n",
    "    ![](./Heatmap_example.jpg)  \n",
    "\n",
    "\n"
   ]
  },
  {
   "cell_type": "code",
   "execution_count": null,
   "metadata": {},
   "outputs": [],
   "source": []
  },
  {
   "cell_type": "markdown",
   "metadata": {},
   "source": [
    "## Task 2\n"
   ]
  },
  {
   "cell_type": "markdown",
   "metadata": {},
   "source": [
    "Draw a box `(side length 20cm)` around the position of the head in `face.jpg`  \n",
    "![face.png](./face.png)"
   ]
  },
  {
   "cell_type": "markdown",
   "metadata": {},
   "source": [
    "Camera parameters are `cx=250, cy=375, fx=fy=716`.  \n",
    "Head position is (in mm relative to camera) `(212, -168, 712)` with rotation (Rodrigues) `(.35, .59, -.30)`.  \n",
    "For more information look the documention of [openCV](https://docs.opencv.org/modules/calib3d/doc/camera_calibration_and_3d_reconstruction.html).  \n",
    "\n",
    "Save the overlayed image. The result should look like `face_example.jpg`, \n",
    "**make sure to choose thinner lines**\n"
   ]
  },
  {
   "cell_type": "markdown",
   "metadata": {},
   "source": [
    "![face_example.jpg](./face_example.jpg)"
   ]
  },
  {
   "cell_type": "code",
   "execution_count": 2,
   "metadata": {},
   "outputs": [],
   "source": [
    "#TODO write your codes here: "
   ]
  },
  {
   "cell_type": "code",
   "execution_count": null,
   "metadata": {},
   "outputs": [],
   "source": []
  }
 ],
 "metadata": {
  "kernelspec": {
   "display_name": "Python 3 (ipykernel)",
   "language": "python",
   "name": "python3"
  },
  "language_info": {
   "codemirror_mode": {
    "name": "ipython",
    "version": 3
   },
   "file_extension": ".py",
   "mimetype": "text/x-python",
   "name": "python",
   "nbconvert_exporter": "python",
   "pygments_lexer": "ipython3",
   "version": "3.10.6"
  },
  "latex_envs": {
   "LaTeX_envs_menu_present": true,
   "autoclose": false,
   "autocomplete": true,
   "bibliofile": "biblio.bib",
   "cite_by": "apalike",
   "current_citInitial": 1,
   "eqLabelWithNumbers": true,
   "eqNumInitial": 1,
   "hotkeys": {
    "equation": "Ctrl-E",
    "itemize": "Ctrl-I"
   },
   "labels_anchors": false,
   "latex_user_defs": false,
   "report_style_numbering": false,
   "user_envs_cfg": false
  },
  "toc": {
   "base_numbering": 1,
   "nav_menu": {},
   "number_sections": true,
   "sideBar": true,
   "skip_h1_title": false,
   "title_cell": "Table of Contents",
   "title_sidebar": "Contents",
   "toc_cell": true,
   "toc_position": {},
   "toc_section_display": true,
   "toc_window_display": false
  },
  "vscode": {
   "interpreter": {
    "hash": "aee8b7b246df8f9039afb4144a1f6fd8d2ca17a180786b69acc140d282b71a49"
   }
  }
 },
 "nbformat": 4,
 "nbformat_minor": 2
}
